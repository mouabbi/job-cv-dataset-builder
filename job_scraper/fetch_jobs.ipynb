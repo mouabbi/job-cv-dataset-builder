{
 "cells": [
  {
   "cell_type": "code",
   "execution_count": 9,
   "id": "c43c26e9",
   "metadata": {},
   "outputs": [],
   "source": [
    "# Importation des bibliothèques nécessaires\n",
    "import json\n",
    "from utils.job_fetcher import load_domains,fetch_jobs_by_keyword, fetch_and_save_jobs_for_domain"
   ]
  },
  {
   "cell_type": "code",
   "execution_count": 10,
   "id": "0ba674e1",
   "metadata": {},
   "outputs": [],
   "source": [
    "\n",
    "# Définir le chemin du fichier JSON de structure de domaines\n",
    "domains_file_path = 'job_domains_structure.json'\n",
    "# Définir le dossier de base où les résultats seront sauvegardés\n",
    "base_path = '../scraping/offres/'\n",
    "\n",
    "# Charger la structure des domaines\n",
    "domain_structure = load_domains(domains_file_path)"
   ]
  },
  {
   "cell_type": "code",
   "execution_count": null,
   "id": "0e9b695f",
   "metadata": {},
   "outputs": [],
   "source": [
    "# Récupérer et sauvegarder les offres d'emploi pour chaque domaine\n",
    "fetch_and_save_jobs_for_domain(domain_structure, base_path,max_results=1)"
   ]
  },
  {
   "cell_type": "code",
   "execution_count": null,
   "id": "701f0936",
   "metadata": {},
   "outputs": [],
   "source": []
  },
  {
   "cell_type": "markdown",
   "id": "12c39507",
   "metadata": {},
   "source": [
    "## Ckeck  data"
   ]
  },
  {
   "cell_type": "code",
   "execution_count": 4,
   "id": "050491c4",
   "metadata": {},
   "outputs": [
    {
     "name": "stderr",
     "output_type": "stream",
     "text": [
      "<>:2: SyntaxWarning: invalid escape sequence '\\S'\n",
      "<>:2: SyntaxWarning: invalid escape sequence '\\S'\n",
      "C:\\Users\\user\\AppData\\Local\\Temp\\ipykernel_29392\\44603180.py:2: SyntaxWarning: invalid escape sequence '\\S'\n",
      "  path=\"../scraping/offres/Blockchain\\Solidity_job_1.txt\"\n"
     ]
    }
   ],
   "source": [
    "import os\n",
    "path=\"../scraping/offres/Blockchain\\Solidity_job_1.txt\"\n",
    "with open(path, \"r\", encoding=\"utf-8\") as f:\n",
    "    content = f.read()\n"
   ]
  },
  {
   "cell_type": "code",
   "execution_count": 5,
   "id": "2d959def",
   "metadata": {},
   "outputs": [
    {
     "name": "stdout",
     "output_type": "stream",
     "text": [
      "Title: Solid Organ Transplant Registered Nurse\n",
      "        Company: Medical City Dallas\n",
      "        Location: University Park, Dallas\n",
      "        \n",
      "        Description:\n",
      "        check url => https://www.adzuna.com/land/ad/5121053071?se=4EtGHZUb8BG33MLCz7WCew&utm_medium=api&utm_source=3abb84b6&v=EE3682CEFEF499E971D51412A42E4B5220928549\n",
      "        \n"
     ]
    }
   ],
   "source": [
    "print(content)"
   ]
  },
  {
   "cell_type": "markdown",
   "id": "144f1b43",
   "metadata": {},
   "source": [
    "## fix errors "
   ]
  },
  {
   "cell_type": "code",
   "execution_count": null,
   "id": "130af824",
   "metadata": {},
   "outputs": [],
   "source": []
  },
  {
   "cell_type": "code",
   "execution_count": 17,
   "id": "4464f8ef",
   "metadata": {},
   "outputs": [],
   "source": [
    "from utils.job_desc_scraper  import scrape_full_description"
   ]
  },
  {
   "cell_type": "code",
   "execution_count": 18,
   "id": "43966a6c",
   "metadata": {},
   "outputs": [],
   "source": [
    "url = \"https://www.adzuna.com/details/5144008995?i=KpbPQk0g8BGsJAgGsKbKeg&se=gDpgkpUb8BG33MLCz7WCew&utm_medium=api&utm_source=3abb84b6&v=4456249A5137D76C3FAF03E90C46B16DFCE9B20E\"\n",
    "\n",
    "description = scrape_full_description(url)"
   ]
  },
  {
   "cell_type": "code",
   "execution_count": 19,
   "id": "47f5d2b5",
   "metadata": {},
   "outputs": [
    {
     "data": {
      "text/plain": [
       "\"Senior Platform Engineer - VPN (Cisco, F5, Palo Alto) (Cloud Operations Resilience Engineering)\\nDo you love building and pioneering in the technology space? Do you enjoy solving complex technical problems in a fast-paced, collaborative, inclusive, and iterative delivery environment? At Capital One, you'll be part of a big group of makers, breakers, doers and disruptors, who love to solve real problems and meet real customer needs. We are seeking an experienced Platform Engineer with expertise in network security technologies cloud, enterprise, and data center to join our team!  This is an opportunity to design, deploy, and manage VPN technologies that drive the enhancement and evolution of our network security infrastructure. As a Platform Engineer, you’ll have the opportunity to be on the forefront of driving a major transformation within Capital One. You will be working with the engineering team to integrate and manage new technologies into the existing production environment; gathering requirements, developing designs to meet documented requirements, and implementing those designs. The Platform Engineer will also function as a mentor and escalation resource for the operations team; developing/presenting training curriculums, mentoring less experienced engineers, and providing on-call incident support.\\nYou will collaborate and innovate with smart and passionate people within Capital One to deliver results that have a direct impact on the company’s bottom line while challenging yourself by learning new technologies and seeking opportunities to advance and improve our enterprise infrastructure.\\nThe Cloud Operations Resilience Engineering (CORE) Technology division is responsible for enabling and evolving Capital One’s foundational cloud infrastructure layer, including observability, connectivity, resilience and availability.\\nThe VPN Engineering team provides secure Virtual Private Network (VPN) connectivity at the Enterprise level that allows associates to access Capital One’s network remotely via home based networks, public Wi-Fi networks and smartphone hot spots.\\nGeneral Responsibilities:\\nHelp in designing, implementing, and maintaining high quality VPN infrastructure solutions.\\nSupport enterprise network security infrastructure, regional hubs, and cloud environments.\\nEnforce cyber security standards, automation of security services, and deployment of security solutions.\\nWork collaboratively across teams and LOBs spanning multiple time zones.\\nConsult with various technology support groups as part of network security design and development efforts.\\nIdentify gaps in current design and research/propose appropriate solutions based on technical and business drivers.\\nLead/contribute to security solutions development, optimizations, network and cyber security standards, and technology refresh efforts. The\\nProvide input to design standards and maintain network security topology diagrams and technical design documents.\\nParticipate in technology integration efforts with other engineering and support teams.\\nProvide direct support of audit and ad hoc consulting engagements.\\nEnsure compliance with departmental and enterprise security configuration standards.\\nEngage with all internal and external parties as necessary to drive and complete work.\\nRepresent the team and share technical information to a variety of individuals, peers, and stakeholders.\\nSolve problems in a complex and ever changing environment.\\nUpdate and contribute to living engineering documentation.\\nWork flexible hours and adjust to changing environments.\\nLifting, moving, racking, installing and carrying equipment of up to 50lbs.\\nBasic Qualifications:\\nHigh School Diploma, GED, or equivalent certification\\nAt least 3 years of experience implementing and troubleshooting network security platforms and VPN technologies (Cisco, f5, Palo Alto)\\nAt least 2 years of experience leveraging network security management tools and performing packet analysis during incident/problem resolution.\\nAt least 2 years of experience with IPSec tunnels and encryption (VRF, TCP/IP, OSI model, IPv6, cloud based network security architecture, VPN deployment strategies & migrations, data traffic manipulation, Proxy, Load Balancers, DNS / Route53, VPCs)\\nPreferred Qualifications:\\n4+ years of Palo Alto and f5 VPN administrator experience\\n2+ years of experience in Jira, Confluence, ServiceNow, and Observe88\\n2+ years of scripting and automation experience (BASH, Powershell, Ansible, Terraform) and a variety of AWS/GCP tools and services\\n2+ years of experience in migrating and supporting enterprise computing platforms and systems for Desktop (macOS, Windows) and Mobile (iOS, Android), and SASE based solutions by test driving proof of concept and deployment of security solution\\nAt this time, Capital One will not sponsor a new applicant for employment authorization, or offer any immigration related support for this position (i.e. H1B, F-1 OPT, F-1 STEM OPT, F-1 CPT, J-1, TN, or another type of work authorization).\\nThe minimum and maximum full-time annual salaries for this role are listed below, by location. Please note that this salary information is solely for candidates hired to perform work within one of these locations, and refers to the amount Capital One is willing to pay at the time of this posting. Salaries for part-time roles will be prorated based upon the agreed upon number of hours to be regularly worked.\\nMcLean, VA: $127,500 - $145,500 for Senior Platform Engineer\\nPlano, TX: $115,900 - $132,200 for Senior Platform Engineer\\nRichmond, VA: $115,900 - $132,200 for Senior Platform Engineer\\nCandidates hired to work in other locations will be subject to the pay range associated with that location, and the actual annualized salary amount offered to any candidate at the time of hire will be reflected solely in the candidate’s offer letter.\\nThis role is also eligible to earn performance based incentive compensation, which may include cash bonus(es) and/or long term incentives (LTI). Incentives could be discretionary or non discretionary depending on the plan.\\nCapital One offers a comprehensive, competitive, and inclusive set of health, financial and other benefits that support your total well-being. Learn more at the Capital One Careers website. Eligibility varies based on full or part-time status, exempt or non-exempt status, and management level.\\nThis role is expected to accept applications for a minimum of 5 business days.\\nNo agencies please. Capital One is an equal opportunity employer committed to diversity and inclusion in the workplace. All qualified applicants will receive consideration for employment without regard to sex (including pregnancy, childbirth or related medical conditions), race, color, age, national origin, religion, disability, genetic information, marital status, sexual orientation, gender identity, gender reassignment, citizenship, immigration status, protected veteran status, or any other basis prohibited under applicable federal, state or local law. Capital One promotes a drug-free workplace. Capital One will consider for employment qualified applicants with a criminal history in a manner consistent with the requirements of applicable laws regarding criminal background inquiries, including, to the extent applicable, Article 23-A of the New York Correction Law; San Francisco, California Police Code Article 49, Sections 4901-4920; New York City’s Fair Chance Act; Philadelphia’s Fair Criminal Records Screening Act; and other applicable federal, state, and local laws and regulations regarding criminal background inquiries.\\nIf you have visited our website in search of information on employment opportunities or to apply for a position, and you require an accommodation, please contact Capital One Recruiting at 1-800-304-9102 or via email at RecruitingAccommodation@capitalone.com. All information you provide will be kept confidential and will be used only to the extent required to provide needed reasonable accommodations.\\nFor technical support or questions about Capital One's recruiting process, please send an email to Careers@capitalone.com\\nCapital One does not provide, endorse nor guarantee and is not liable for third-party products, services, educational tools or other information available through this site.\\nCapital One Financial is made up of several different entities. Please note that any position posted in Canada is for Capital One Canada, any position posted in the United Kingdom is for Capital One Europe and any position posted in the Philippines is for Capital One Philippines Service Corp. (COPSSC).\""
      ]
     },
     "execution_count": 19,
     "metadata": {},
     "output_type": "execute_result"
    }
   ],
   "source": [
    "description"
   ]
  },
  {
   "cell_type": "code",
   "execution_count": 20,
   "id": "df1985bc",
   "metadata": {},
   "outputs": [],
   "source": [
    "import os\n",
    "import re\n",
    "\n",
    "def update_incomplete_descriptions(base_path, scrape_full_description):\n",
    "    pattern = re.compile(\n",
    "        r\"(Description:\\s*)check url =>\\s*(https?://[^\\s]+)\",\n",
    "        re.DOTALL\n",
    "    )\n",
    "    files_updated = 0\n",
    "    files_skipped = 0\n",
    "\n",
    "    for root, _, files in os.walk(base_path):\n",
    "        for file in files:\n",
    "            if file.endswith(\".txt\"):\n",
    "                path = os.path.join(root, file)\n",
    "                try:\n",
    "                    with open(path, \"r\", encoding=\"utf-8\") as f:\n",
    "                        content = f.read()\n",
    "\n",
    "                    match = pattern.search(content)\n",
    "                    if match:\n",
    "                        prefix = match.group(1)\n",
    "                        url = match.group(2)\n",
    "\n",
    "                        print(f\"🌐 Fetching real description from: {url}\")\n",
    "                        description = scrape_full_description(url)\n",
    "\n",
    "                        # If scrape failed or returned nothing useful\n",
    "                        if not description or \"❌\" in description:\n",
    "                            print(f\"⚠️ Skipped (invalid/empty description): {path}\")\n",
    "                            files_skipped += 1\n",
    "                            continue\n",
    "\n",
    "                        new_text = f\"{prefix}{description}\"\n",
    "                        updated_content = pattern.sub(new_text, content)\n",
    "\n",
    "                        with open(path, \"w\", encoding=\"utf-8\") as f:\n",
    "                            f.write(updated_content)\n",
    "\n",
    "                        print(f\"✅ Updated description in: {path}\")\n",
    "                        files_updated += 1\n",
    "\n",
    "                except Exception as e:\n",
    "                    print(f\"❌ Error processing {path}: {e}\")\n",
    "\n",
    "    print(f\"\\n🔄 Total files updated: {files_updated}\")\n",
    "    print(f\"⏭️ Total files skipped due to empty/error: {files_skipped}\")\n"
   ]
  },
  {
   "cell_type": "code",
   "execution_count": 21,
   "id": "41e0a6c5",
   "metadata": {},
   "outputs": [
    {
     "name": "stdout",
     "output_type": "stream",
     "text": [
      "\n",
      "🔄 Total files updated: 0\n",
      "⏭️ Total files skipped due to empty/error: 0\n"
     ]
    }
   ],
   "source": [
    "# Example usage:\n",
    "update_incomplete_descriptions(base_path, scrape_full_description)\n"
   ]
  }
 ],
 "metadata": {
  "kernelspec": {
   "display_name": "Python 3",
   "language": "python",
   "name": "python3"
  },
  "language_info": {
   "codemirror_mode": {
    "name": "ipython",
    "version": 3
   },
   "file_extension": ".py",
   "mimetype": "text/x-python",
   "name": "python",
   "nbconvert_exporter": "python",
   "pygments_lexer": "ipython3",
   "version": "3.12.6"
  }
 },
 "nbformat": 4,
 "nbformat_minor": 5
}
