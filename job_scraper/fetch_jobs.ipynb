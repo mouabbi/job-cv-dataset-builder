{
 "cells": [
  {
   "cell_type": "code",
   "execution_count": null,
   "id": "c43c26e9",
   "metadata": {},
   "outputs": [],
   "source": [
    "# Importation des bibliothèques nécessaires\n",
    "import json\n",
    "from utils.job_fetcher import load_domains,fetch_jobs_by_keyword, fetch_and_save_jobs_for_domain"
   ]
  },
  {
   "cell_type": "code",
   "execution_count": null,
   "id": "0ba674e1",
   "metadata": {},
   "outputs": [],
   "source": [
    "\n",
    "# Définir le chemin du fichier JSON de structure de domaines\n",
    "domains_file_path = 'job_domains_structure.json'\n",
    "# Définir le dossier de base où les résultats seront sauvegardés\n",
    "base_path = '../scraping/offres/'\n",
    "\n",
    "# Charger la structure des domaines\n",
    "domain_structure = load_domains(domains_file_path)"
   ]
  },
  {
   "cell_type": "code",
   "execution_count": null,
   "id": "0e9b695f",
   "metadata": {},
   "outputs": [],
   "source": [
    "# Récupérer et sauvegarder les offres d'emploi pour chaque domaine\n",
    "fetch_and_save_jobs_for_domain(domain_structure, base_path,max_results=1)"
   ]
  },
  {
   "cell_type": "code",
   "execution_count": null,
   "id": "701f0936",
   "metadata": {},
   "outputs": [],
   "source": []
  },
  {
   "cell_type": "markdown",
   "id": "12c39507",
   "metadata": {},
   "source": [
    "## Ckeck  data"
   ]
  },
  {
   "cell_type": "code",
   "execution_count": null,
   "id": "050491c4",
   "metadata": {},
   "outputs": [],
   "source": [
    "import os\n",
    "path=\"../scraping/offres/Blockchain\\Solidity_job_1.txt\"\n",
    "with open(path, \"r\", encoding=\"utf-8\") as f:\n",
    "    content = f.read()\n"
   ]
  },
  {
   "cell_type": "code",
   "execution_count": null,
   "id": "2d959def",
   "metadata": {},
   "outputs": [],
   "source": [
    "print(content)"
   ]
  },
  {
   "cell_type": "markdown",
   "id": "144f1b43",
   "metadata": {},
   "source": [
    "## fix errors "
   ]
  },
  {
   "cell_type": "code",
   "execution_count": 1,
   "id": "4464f8ef",
   "metadata": {},
   "outputs": [],
   "source": [
    "from utils.job_desc_scraper  import scrape_full_description"
   ]
  },
  {
   "cell_type": "code",
   "execution_count": 2,
   "id": "43966a6c",
   "metadata": {},
   "outputs": [],
   "source": [
    "description = scrape_full_description(\"https://www.adzuna.com/land/ad/5144008860?se=6FJORpEb8BG0P-x9F3cHCQ&utm_medium=api&utm_source=3abb84b6&v=1A726510400C0C09BC3626CCDB41EDEC7C24B027\")"
   ]
  },
  {
   "cell_type": "code",
   "execution_count": 3,
   "id": "a8d4619c",
   "metadata": {},
   "outputs": [
    {
     "data": {
      "text/plain": [
       "'❌ Request error: 403 Client Error: Forbidden for url: https://www.adzuna.com/land/ad/5144008860?se=6FJORpEb8BG0P-x9F3cHCQ&utm_medium=api&utm_source=3abb84b6&v=1A726510400C0C09BC3626CCDB41EDEC7C24B027'"
      ]
     },
     "execution_count": 3,
     "metadata": {},
     "output_type": "execute_result"
    }
   ],
   "source": [
    "description"
   ]
  },
  {
   "cell_type": "code",
   "execution_count": null,
   "id": "df1985bc",
   "metadata": {},
   "outputs": [],
   "source": [
    "import os\n",
    "import re\n",
    "\n",
    "def clean_scraping_error_descriptions(base_path):\n",
    "    error_pattern = re.compile(\n",
    "        r\"(Description:\\s*)❌.*?url:\\s*(https?://[^\\s]+)\",\n",
    "        re.DOTALL\n",
    "    )\n",
    "    files_fixed = 0\n",
    "\n",
    "    for root, _, files in os.walk(base_path):\n",
    "        for file in files:\n",
    "            if file.endswith(\".txt\"):\n",
    "                path = os.path.join(root, file)\n",
    "                try:\n",
    "                    with open(path, \"r\", encoding=\"utf-8\") as f:\n",
    "                        content = f.read()\n",
    "\n",
    "                    match = error_pattern.search(content)\n",
    "                    if match:\n",
    "                        desc_prefix = match.group(1)\n",
    "                        url = match.group(2)\n",
    "                        new_description = f\"{desc_prefix}check url => {url}\"\n",
    "\n",
    "                        cleaned_content = error_pattern.sub(new_description, content)\n",
    "\n",
    "                        with open(path, \"w\", encoding=\"utf-8\") as f:\n",
    "                            f.write(cleaned_content)\n",
    "\n",
    "                        print(f\"✅ Cleaned error in: {path}\")\n",
    "                        files_fixed += 1\n",
    "\n",
    "                except Exception as e:\n",
    "                    print(f\"❌ Failed to process {path}: {e}\")\n",
    "\n",
    "    print(f\"\\n🔧 Total files cleaned: {files_fixed}\")\n",
    "\n",
    "# Example usage:\n",
    "# base_path = \"../scraping/offers/\"\n",
    "clean_scraping_error_descriptions(base_path)\n"
   ]
  }
 ],
 "metadata": {
  "kernelspec": {
   "display_name": "Python 3",
   "language": "python",
   "name": "python3"
  },
  "language_info": {
   "codemirror_mode": {
    "name": "ipython",
    "version": 3
   },
   "file_extension": ".py",
   "mimetype": "text/x-python",
   "name": "python",
   "nbconvert_exporter": "python",
   "pygments_lexer": "ipython3",
   "version": "3.12.6"
  }
 },
 "nbformat": 4,
 "nbformat_minor": 5
}
