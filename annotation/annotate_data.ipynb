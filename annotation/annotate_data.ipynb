{
 "cells": [
  {
   "cell_type": "code",
   "execution_count": 1,
   "id": "89586d18",
   "metadata": {},
   "outputs": [],
   "source": [
    "from utils.utils import load_domain_map, prepare_to_annotate,read_file_content\n"
   ]
  },
  {
   "cell_type": "code",
   "execution_count": 2,
   "id": "6a2b3888",
   "metadata": {},
   "outputs": [],
   "source": [
    "# Charger la map des domaines similaires\n",
    "domain_map = load_domain_map(\"utils/domain_map.json\")"
   ]
  },
  {
   "cell_type": "code",
   "execution_count": 3,
   "id": "967e999c",
   "metadata": {},
   "outputs": [
    {
     "name": "stdout",
     "output_type": "stream",
     "text": [
      "📂 Analyse des offres dans : ../scraping/offres\n",
      "\n",
      "✅ Offre : ../scraping/offres\\datascience\\1.pdf  |  CV : ../scraping/cvs\\data_analysis\\cv_da_3.txt\n",
      "✅ Offre : ../scraping/offres\\datascience\\1.pdf  |  CV : ../scraping/cvs\\ai\\cv_ai_1.txt\n",
      "✅ Offre : ../scraping/offres\\datascience\\1.pdf  |  CV : ../scraping/cvs\\data_analysis\\cv_da_7.txt\n",
      "✅ Offre : ../scraping/offres\\datascience\\1.pdf  |  CV : ../scraping/cvs\\machine_learning\\cv_ml_7.txt\n",
      "✅ Offre : ../scraping/offres\\datascience\\1.pdf  |  CV : ../scraping/cvs\\ai\\cv_ai_5.txt\n",
      "✅ Offre : ../scraping/offres\\datascience\\1.pdf  |  CV : ../scraping/cvs\\machine_learning\\cv_ml_8.txt\n",
      "✅ Offre : ../scraping/offres\\datascience\\1.pdf  |  CV : ../scraping/cvs\\ai\\cv_ai_6.txt\n",
      "✅ Offre : ../scraping/offres\\datascience\\1.pdf  |  CV : ../scraping/cvs\\ai\\cv_ai_4.txt\n",
      "✅ Offre : ../scraping/offres\\datascience\\1.pdf  |  CV : ../scraping/cvs\\ai\\cv_ai_10.txt\n",
      "✅ Offre : ../scraping/offres\\datascience\\1.pdf  |  CV : ../scraping/cvs\\ai\\cv_ai_8.txt\n",
      "✅ Offre : ../scraping/offres\\datascience\\1.pdf  |  CV : ../scraping/cvs\\machine_learning\\cv_ml_5.txt\n",
      "✅ Offre : ../scraping/offres\\datascience\\1.pdf  |  CV : ../scraping/cvs\\data_analysis\\cv_da_9.txt\n",
      "✅ Offre : ../scraping/offres\\datascience\\1.pdf  |  CV : ../scraping/cvs\\data_analysis\\cv_da_8.txt\n",
      "✅ Offre : ../scraping/offres\\datascience\\1.pdf  |  CV : ../scraping/cvs\\data_analysis\\cv_da_2.txt\n",
      "✅ Offre : ../scraping/offres\\datascience\\1.pdf  |  CV : ../scraping/cvs\\data_analysis\\cv_da_4.txt\n",
      "✅ Offre : ../scraping/offres\\datascience\\1.pdf  |  CV : ../scraping/cvs\\machine_learning\\cv_ml_1.txt\n",
      "✅ Offre : ../scraping/offres\\datascience\\1.pdf  |  CV : ../scraping/cvs\\data_analysis\\cv_da_6.txt\n",
      "✅ Offre : ../scraping/offres\\datascience\\1.pdf  |  CV : ../scraping/cvs\\data_analysis\\cv_da_5.txt\n",
      "✅ Offre : ../scraping/offres\\datascience\\1.pdf  |  CV : ../scraping/cvs\\machine_learning\\cv_ml_10.txt\n",
      "✅ Offre : ../scraping/offres\\datascience\\1.pdf  |  CV : ../scraping/cvs\\data_analysis\\cv_da_10.txt\n"
     ]
    }
   ],
   "source": [
    "# Appel de la fonction avec chemins relatifs corrects\n",
    "prepare_to_annotate(\n",
    "    offers_path=\"../scraping/offres\",\n",
    "    cvs_path=\"../scraping/cvs\",\n",
    "    domain_map=domain_map,\n",
    "    output_path=\"ready_to_annotate.csv\"\n",
    ")"
   ]
  },
  {
   "cell_type": "code",
   "execution_count": 4,
   "id": "922006a2",
   "metadata": {},
   "outputs": [
    {
     "data": {
      "text/plain": [
       "True"
      ]
     },
     "execution_count": 4,
     "metadata": {},
     "output_type": "execute_result"
    }
   ],
   "source": [
    "\n",
    "import csv\n",
    "import os\n",
    "from utils.deepseek import get_openrouter_score  # Importing the DeepSeek API function\n",
    "from dotenv import load_dotenv\n",
    "\n",
    "# Load environment variables from .env file\n",
    "load_dotenv()\n"
   ]
  },
  {
   "cell_type": "code",
   "execution_count": 5,
   "id": "3ba03e83",
   "metadata": {},
   "outputs": [],
   "source": [
    "\n",
    "def annotate_data(input_path, output_path):\n",
    "    from dotenv import load_dotenv\n",
    "    load_dotenv()\n",
    "\n",
    "    api_key = os.getenv(\"OPENROUTER_API_KEY\")\n",
    "    if not api_key:\n",
    "        raise ValueError(\"OPENROUTER_API_KEY is not set in your .env file\")\n",
    "\n",
    "    with open(input_path, 'r', encoding='utf-8') as f_in, open(output_path, 'w', newline='', encoding='utf-8') as f_out:\n",
    "        reader = csv.reader(f_in)\n",
    "        writer = csv.writer(f_out)\n",
    "        next(reader)  # Skip header\n",
    "        writer.writerow(['offer_path', 'cv_path', 'score'])\n",
    "\n",
    "        for row in reader:\n",
    "            offer_path, cv_path = row\n",
    "            print(\"\\nOffer:\", offer_path)\n",
    "            print(\"CV:\", cv_path)\n",
    "\n",
    "            offer_text = read_file_content(offer_path)\n",
    "            cv_text = read_file_content(cv_path)\n",
    "\n",
    "            if not offer_text or not cv_text:\n",
    "                print(f\"⚠️ Impossible de lire les fichiers : {offer_path}, {cv_path}\")\n",
    "                continue\n",
    "\n",
    "            try:\n",
    "                score = get_openrouter_score(offer_text, cv_text)\n",
    "                print(f\"✅ Score obtenu : {score}\")\n",
    "                writer.writerow([offer_path, cv_path, score])\n",
    "            except Exception as e:\n",
    "                print(f\"❌ Erreur lors de l’annotation : {e}\")\n"
   ]
  },
  {
   "cell_type": "code",
   "execution_count": 8,
   "id": "885e19e1",
   "metadata": {},
   "outputs": [
    {
     "name": "stdout",
     "output_type": "stream",
     "text": [
      "\n",
      "Offer: ../scraping/offres\\datascience\\1.pdf\n",
      "CV: ../scraping/cvs\\data_analysis\\cv_da_3.txt\n",
      "✅ Score obtenu : 0.72\n",
      "\n",
      "Offer: ../scraping/offres\\datascience\\1.pdf\n",
      "CV: ../scraping/cvs\\ai\\cv_ai_1.txt\n",
      "✅ Score obtenu : 0.6\n",
      "\n",
      "Offer: ../scraping/offres\\datascience\\1.pdf\n",
      "CV: ../scraping/cvs\\data_analysis\\cv_da_7.txt\n",
      "✅ Score obtenu : 0.65\n",
      "\n",
      "Offer: ../scraping/offres\\datascience\\1.pdf\n",
      "CV: ../scraping/cvs\\machine_learning\\cv_ml_7.txt\n",
      "✅ Score obtenu : 0.65\n",
      "\n",
      "Offer: ../scraping/offres\\datascience\\1.pdf\n",
      "CV: ../scraping/cvs\\ai\\cv_ai_5.txt\n",
      "✅ Score obtenu : 0.7\n",
      "\n",
      "Offer: ../scraping/offres\\datascience\\1.pdf\n",
      "CV: ../scraping/cvs\\machine_learning\\cv_ml_8.txt\n",
      "✅ Score obtenu : 0.7\n",
      "\n",
      "Offer: ../scraping/offres\\datascience\\1.pdf\n",
      "CV: ../scraping/cvs\\ai\\cv_ai_6.txt\n",
      "✅ Score obtenu : 0.6\n",
      "\n",
      "Offer: ../scraping/offres\\datascience\\1.pdf\n",
      "CV: ../scraping/cvs\\ai\\cv_ai_4.txt\n",
      "✅ Score obtenu : 0.65\n",
      "\n",
      "Offer: ../scraping/offres\\datascience\\1.pdf\n",
      "CV: ../scraping/cvs\\ai\\cv_ai_10.txt\n",
      "✅ Score obtenu : 0.7\n",
      "\n",
      "Offer: ../scraping/offres\\datascience\\1.pdf\n",
      "CV: ../scraping/cvs\\ai\\cv_ai_8.txt\n",
      "✅ Score obtenu : 0.6\n",
      "\n",
      "Offer: ../scraping/offres\\datascience\\1.pdf\n",
      "CV: ../scraping/cvs\\machine_learning\\cv_ml_5.txt\n",
      "✅ Score obtenu : 0.65\n",
      "\n",
      "Offer: ../scraping/offres\\datascience\\1.pdf\n",
      "CV: ../scraping/cvs\\data_analysis\\cv_da_9.txt\n",
      "✅ Score obtenu : 0.7\n",
      "\n",
      "Offer: ../scraping/offres\\datascience\\1.pdf\n",
      "CV: ../scraping/cvs\\data_analysis\\cv_da_8.txt\n",
      "✅ Score obtenu : 0.7\n",
      "\n",
      "Offer: ../scraping/offres\\datascience\\1.pdf\n",
      "CV: ../scraping/cvs\\data_analysis\\cv_da_2.txt\n",
      "✅ Score obtenu : 0.4\n",
      "\n",
      "Offer: ../scraping/offres\\datascience\\1.pdf\n",
      "CV: ../scraping/cvs\\data_analysis\\cv_da_4.txt\n",
      "✅ Score obtenu : 0.5\n",
      "\n",
      "Offer: ../scraping/offres\\datascience\\1.pdf\n",
      "CV: ../scraping/cvs\\machine_learning\\cv_ml_1.txt\n",
      "✅ Score obtenu : 0.6\n",
      "\n",
      "Offer: ../scraping/offres\\datascience\\1.pdf\n",
      "CV: ../scraping/cvs\\data_analysis\\cv_da_6.txt\n",
      "✅ Score obtenu : 0.6\n",
      "\n",
      "Offer: ../scraping/offres\\datascience\\1.pdf\n",
      "CV: ../scraping/cvs\\data_analysis\\cv_da_5.txt\n",
      "✅ Score obtenu : 0.75\n",
      "\n",
      "Offer: ../scraping/offres\\datascience\\1.pdf\n",
      "CV: ../scraping/cvs\\machine_learning\\cv_ml_10.txt\n",
      "✅ Score obtenu : 0.65\n",
      "\n",
      "Offer: ../scraping/offres\\datascience\\1.pdf\n",
      "CV: ../scraping/cvs\\data_analysis\\cv_da_10.txt\n",
      "✅ Score obtenu : 0.6\n"
     ]
    }
   ],
   "source": [
    "annotate_data(input_path=\"ready_to_annotate.csv\",output_path=\"annotated_data.csv\")"
   ]
  },
  {
   "cell_type": "code",
   "execution_count": null,
   "id": "bde9196d",
   "metadata": {},
   "outputs": [],
   "source": []
  }
 ],
 "metadata": {
  "kernelspec": {
   "display_name": "Python 3",
   "language": "python",
   "name": "python3"
  },
  "language_info": {
   "codemirror_mode": {
    "name": "ipython",
    "version": 3
   },
   "file_extension": ".py",
   "mimetype": "text/x-python",
   "name": "python",
   "nbconvert_exporter": "python",
   "pygments_lexer": "ipython3",
   "version": "3.12.6"
  }
 },
 "nbformat": 4,
 "nbformat_minor": 5
}
